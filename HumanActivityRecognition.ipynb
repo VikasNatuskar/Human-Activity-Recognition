{
 "cells": [
  {
   "cell_type": "code",
   "execution_count": 1,
   "id": "bbdfa6de",
   "metadata": {},
   "outputs": [],
   "source": [
    "import numpy as np\n",
    "import pandas as pd\n",
    "import seaborn as sns\n",
    "import matplotlib.pyplot as plt\n",
    "\n",
    "from datetime import datetime\n",
    "\n",
    "import warnings\n",
    "warnings.filterwarnings('ignore')"
   ]
  },
  {
   "cell_type": "code",
   "execution_count": 2,
   "id": "af8c7f11",
   "metadata": {},
   "outputs": [],
   "source": [
    "features = list()\n",
    "with open(\"Dataset/Features.txt\") as f:\n",
    "    for line in f:\n",
    "        features.append(line.split()[1])"
   ]
  },
  {
   "cell_type": "code",
   "execution_count": 3,
   "id": "12ccaeb8",
   "metadata": {},
   "outputs": [
    {
     "data": {
      "text/plain": [
       "['tBodyAcc-mean()-X',\n",
       " 'tBodyAcc-mean()-Y',\n",
       " 'tBodyAcc-mean()-Z',\n",
       " 'tBodyAcc-std()-X',\n",
       " 'tBodyAcc-std()-Y',\n",
       " 'tBodyAcc-std()-Z',\n",
       " 'tBodyAcc-mad()-X',\n",
       " 'tBodyAcc-mad()-Y',\n",
       " 'tBodyAcc-mad()-Z',\n",
       " 'tBodyAcc-max()-X']"
      ]
     },
     "execution_count": 3,
     "metadata": {},
     "output_type": "execute_result"
    }
   ],
   "source": [
    "features[:10]"
   ]
  },
  {
   "cell_type": "code",
   "execution_count": 4,
   "id": "e2498897",
   "metadata": {},
   "outputs": [],
   "source": [
    "train_df = pd.read_csv(\"Dataset/train/X_train.txt\", delim_whitespace = True, names = features)"
   ]
  },
  {
   "cell_type": "code",
   "execution_count": 5,
   "id": "bfebdfb0",
   "metadata": {},
   "outputs": [],
   "source": [
    "train_df[\"subject_id\"] = pd.read_csv(\"Dataset/train/subject_train.txt\", header = None, squeeze = True)"
   ]
  },
  {
   "cell_type": "code",
   "execution_count": 6,
   "id": "0c13eb27",
   "metadata": {},
   "outputs": [],
   "source": [
    "train_df[\"activity\"] = pd.read_csv(\"Dataset/train/y_train.txt\", header = None, squeeze = True)"
   ]
  },
  {
   "cell_type": "code",
   "execution_count": 7,
   "id": "463fa88f",
   "metadata": {},
   "outputs": [],
   "source": [
    "activity = pd.read_csv(\"Dataset/train/y_train.txt\", header = None, squeeze = True)"
   ]
  },
  {
   "cell_type": "code",
   "execution_count": 8,
   "id": "86972255",
   "metadata": {},
   "outputs": [],
   "source": [
    "train_df['activity_name'] = activity.map({1:\"WALKING\",2:\"WALKING_UPSTAIRS\",3:\"WALKING_DOWNSTAIRS\",4:\"SITTING\",5:\"STANDING\",6:\"LYING\"})"
   ]
  },
  {
   "cell_type": "code",
   "execution_count": 9,
   "id": "3cdea681",
   "metadata": {},
   "outputs": [
    {
     "data": {
      "text/html": [
       "<div>\n",
       "<style scoped>\n",
       "    .dataframe tbody tr th:only-of-type {\n",
       "        vertical-align: middle;\n",
       "    }\n",
       "\n",
       "    .dataframe tbody tr th {\n",
       "        vertical-align: top;\n",
       "    }\n",
       "\n",
       "    .dataframe thead th {\n",
       "        text-align: right;\n",
       "    }\n",
       "</style>\n",
       "<table border=\"1\" class=\"dataframe\">\n",
       "  <thead>\n",
       "    <tr style=\"text-align: right;\">\n",
       "      <th></th>\n",
       "      <th>tBodyAcc-mean()-X</th>\n",
       "      <th>tBodyAcc-mean()-Y</th>\n",
       "      <th>tBodyAcc-mean()-Z</th>\n",
       "      <th>tBodyAcc-std()-X</th>\n",
       "      <th>tBodyAcc-std()-Y</th>\n",
       "      <th>tBodyAcc-std()-Z</th>\n",
       "      <th>tBodyAcc-mad()-X</th>\n",
       "      <th>tBodyAcc-mad()-Y</th>\n",
       "      <th>tBodyAcc-mad()-Z</th>\n",
       "      <th>tBodyAcc-max()-X</th>\n",
       "      <th>...</th>\n",
       "      <th>angle(tBodyAccMean,gravity)</th>\n",
       "      <th>angle(tBodyAccJerkMean),gravityMean)</th>\n",
       "      <th>angle(tBodyGyroMean,gravityMean)</th>\n",
       "      <th>angle(tBodyGyroJerkMean,gravityMean)</th>\n",
       "      <th>angle(X,gravityMean)</th>\n",
       "      <th>angle(Y,gravityMean)</th>\n",
       "      <th>angle(Z,gravityMean)</th>\n",
       "      <th>subject_id</th>\n",
       "      <th>activity</th>\n",
       "      <th>activity_name</th>\n",
       "    </tr>\n",
       "  </thead>\n",
       "  <tbody>\n",
       "    <tr>\n",
       "      <th>0</th>\n",
       "      <td>0.288585</td>\n",
       "      <td>-0.020294</td>\n",
       "      <td>-0.132905</td>\n",
       "      <td>-0.995279</td>\n",
       "      <td>-0.983111</td>\n",
       "      <td>-0.913526</td>\n",
       "      <td>-0.995112</td>\n",
       "      <td>-0.983185</td>\n",
       "      <td>-0.923527</td>\n",
       "      <td>-0.934724</td>\n",
       "      <td>...</td>\n",
       "      <td>-0.112754</td>\n",
       "      <td>0.030400</td>\n",
       "      <td>-0.464761</td>\n",
       "      <td>-0.018446</td>\n",
       "      <td>-0.841247</td>\n",
       "      <td>0.179941</td>\n",
       "      <td>-0.058627</td>\n",
       "      <td>1</td>\n",
       "      <td>5</td>\n",
       "      <td>STANDING</td>\n",
       "    </tr>\n",
       "    <tr>\n",
       "      <th>1</th>\n",
       "      <td>0.278419</td>\n",
       "      <td>-0.016411</td>\n",
       "      <td>-0.123520</td>\n",
       "      <td>-0.998245</td>\n",
       "      <td>-0.975300</td>\n",
       "      <td>-0.960322</td>\n",
       "      <td>-0.998807</td>\n",
       "      <td>-0.974914</td>\n",
       "      <td>-0.957686</td>\n",
       "      <td>-0.943068</td>\n",
       "      <td>...</td>\n",
       "      <td>0.053477</td>\n",
       "      <td>-0.007435</td>\n",
       "      <td>-0.732626</td>\n",
       "      <td>0.703511</td>\n",
       "      <td>-0.844788</td>\n",
       "      <td>0.180289</td>\n",
       "      <td>-0.054317</td>\n",
       "      <td>1</td>\n",
       "      <td>5</td>\n",
       "      <td>STANDING</td>\n",
       "    </tr>\n",
       "    <tr>\n",
       "      <th>2</th>\n",
       "      <td>0.279653</td>\n",
       "      <td>-0.019467</td>\n",
       "      <td>-0.113462</td>\n",
       "      <td>-0.995380</td>\n",
       "      <td>-0.967187</td>\n",
       "      <td>-0.978944</td>\n",
       "      <td>-0.996520</td>\n",
       "      <td>-0.963668</td>\n",
       "      <td>-0.977469</td>\n",
       "      <td>-0.938692</td>\n",
       "      <td>...</td>\n",
       "      <td>-0.118559</td>\n",
       "      <td>0.177899</td>\n",
       "      <td>0.100699</td>\n",
       "      <td>0.808529</td>\n",
       "      <td>-0.848933</td>\n",
       "      <td>0.180637</td>\n",
       "      <td>-0.049118</td>\n",
       "      <td>1</td>\n",
       "      <td>5</td>\n",
       "      <td>STANDING</td>\n",
       "    </tr>\n",
       "    <tr>\n",
       "      <th>3</th>\n",
       "      <td>0.279174</td>\n",
       "      <td>-0.026201</td>\n",
       "      <td>-0.123283</td>\n",
       "      <td>-0.996091</td>\n",
       "      <td>-0.983403</td>\n",
       "      <td>-0.990675</td>\n",
       "      <td>-0.997099</td>\n",
       "      <td>-0.982750</td>\n",
       "      <td>-0.989302</td>\n",
       "      <td>-0.938692</td>\n",
       "      <td>...</td>\n",
       "      <td>-0.036788</td>\n",
       "      <td>-0.012892</td>\n",
       "      <td>0.640011</td>\n",
       "      <td>-0.485366</td>\n",
       "      <td>-0.848649</td>\n",
       "      <td>0.181935</td>\n",
       "      <td>-0.047663</td>\n",
       "      <td>1</td>\n",
       "      <td>5</td>\n",
       "      <td>STANDING</td>\n",
       "    </tr>\n",
       "    <tr>\n",
       "      <th>4</th>\n",
       "      <td>0.276629</td>\n",
       "      <td>-0.016570</td>\n",
       "      <td>-0.115362</td>\n",
       "      <td>-0.998139</td>\n",
       "      <td>-0.980817</td>\n",
       "      <td>-0.990482</td>\n",
       "      <td>-0.998321</td>\n",
       "      <td>-0.979672</td>\n",
       "      <td>-0.990441</td>\n",
       "      <td>-0.942469</td>\n",
       "      <td>...</td>\n",
       "      <td>0.123320</td>\n",
       "      <td>0.122542</td>\n",
       "      <td>0.693578</td>\n",
       "      <td>-0.615971</td>\n",
       "      <td>-0.847865</td>\n",
       "      <td>0.185151</td>\n",
       "      <td>-0.043892</td>\n",
       "      <td>1</td>\n",
       "      <td>5</td>\n",
       "      <td>STANDING</td>\n",
       "    </tr>\n",
       "  </tbody>\n",
       "</table>\n",
       "<p>5 rows × 564 columns</p>\n",
       "</div>"
      ],
      "text/plain": [
       "   tBodyAcc-mean()-X  tBodyAcc-mean()-Y  tBodyAcc-mean()-Z  tBodyAcc-std()-X  \\\n",
       "0           0.288585          -0.020294          -0.132905         -0.995279   \n",
       "1           0.278419          -0.016411          -0.123520         -0.998245   \n",
       "2           0.279653          -0.019467          -0.113462         -0.995380   \n",
       "3           0.279174          -0.026201          -0.123283         -0.996091   \n",
       "4           0.276629          -0.016570          -0.115362         -0.998139   \n",
       "\n",
       "   tBodyAcc-std()-Y  tBodyAcc-std()-Z  tBodyAcc-mad()-X  tBodyAcc-mad()-Y  \\\n",
       "0         -0.983111         -0.913526         -0.995112         -0.983185   \n",
       "1         -0.975300         -0.960322         -0.998807         -0.974914   \n",
       "2         -0.967187         -0.978944         -0.996520         -0.963668   \n",
       "3         -0.983403         -0.990675         -0.997099         -0.982750   \n",
       "4         -0.980817         -0.990482         -0.998321         -0.979672   \n",
       "\n",
       "   tBodyAcc-mad()-Z  tBodyAcc-max()-X  ...  angle(tBodyAccMean,gravity)  \\\n",
       "0         -0.923527         -0.934724  ...                    -0.112754   \n",
       "1         -0.957686         -0.943068  ...                     0.053477   \n",
       "2         -0.977469         -0.938692  ...                    -0.118559   \n",
       "3         -0.989302         -0.938692  ...                    -0.036788   \n",
       "4         -0.990441         -0.942469  ...                     0.123320   \n",
       "\n",
       "   angle(tBodyAccJerkMean),gravityMean)  angle(tBodyGyroMean,gravityMean)  \\\n",
       "0                              0.030400                         -0.464761   \n",
       "1                             -0.007435                         -0.732626   \n",
       "2                              0.177899                          0.100699   \n",
       "3                             -0.012892                          0.640011   \n",
       "4                              0.122542                          0.693578   \n",
       "\n",
       "   angle(tBodyGyroJerkMean,gravityMean)  angle(X,gravityMean)  \\\n",
       "0                             -0.018446             -0.841247   \n",
       "1                              0.703511             -0.844788   \n",
       "2                              0.808529             -0.848933   \n",
       "3                             -0.485366             -0.848649   \n",
       "4                             -0.615971             -0.847865   \n",
       "\n",
       "   angle(Y,gravityMean)  angle(Z,gravityMean)  subject_id  activity  \\\n",
       "0              0.179941             -0.058627           1         5   \n",
       "1              0.180289             -0.054317           1         5   \n",
       "2              0.180637             -0.049118           1         5   \n",
       "3              0.181935             -0.047663           1         5   \n",
       "4              0.185151             -0.043892           1         5   \n",
       "\n",
       "   activity_name  \n",
       "0       STANDING  \n",
       "1       STANDING  \n",
       "2       STANDING  \n",
       "3       STANDING  \n",
       "4       STANDING  \n",
       "\n",
       "[5 rows x 564 columns]"
      ]
     },
     "execution_count": 9,
     "metadata": {},
     "output_type": "execute_result"
    }
   ],
   "source": [
    "train_df.head()"
   ]
  },
  {
   "cell_type": "code",
   "execution_count": 10,
   "id": "b96b8ce4",
   "metadata": {},
   "outputs": [
    {
     "data": {
      "text/plain": [
       "(7352, 564)"
      ]
     },
     "execution_count": 10,
     "metadata": {},
     "output_type": "execute_result"
    }
   ],
   "source": [
    "train_df.shape"
   ]
  },
  {
   "cell_type": "code",
   "execution_count": 11,
   "id": "5f5079b6",
   "metadata": {},
   "outputs": [],
   "source": [
    "test_df = pd.read_csv(\"Dataset/test/X_test.txt\", delim_whitespace = True, names = features)"
   ]
  },
  {
   "cell_type": "code",
   "execution_count": 12,
   "id": "a6e38a9b",
   "metadata": {},
   "outputs": [],
   "source": [
    "test_df[\"subject_id\"] = pd.read_csv(\"Dataset/test/subject_test.txt\", header = None, squeeze = True)"
   ]
  },
  {
   "cell_type": "code",
   "execution_count": 13,
   "id": "8d2a5674",
   "metadata": {},
   "outputs": [],
   "source": [
    "test_df[\"activity\"] = pd.read_csv(\"Dataset/test/y_test.txt\", header = None, squeeze = True)"
   ]
  },
  {
   "cell_type": "code",
   "execution_count": 14,
   "id": "045bc566",
   "metadata": {},
   "outputs": [],
   "source": [
    "activity = pd.read_csv(\"Dataset/test/y_test.txt\", header = None, squeeze = True)"
   ]
  },
  {
   "cell_type": "code",
   "execution_count": 15,
   "id": "98be5394",
   "metadata": {},
   "outputs": [],
   "source": [
    "test_df['activity_name'] = activity.map({1:\"WALKING\",2:\"WALKING_UPSTAIRS\",3:\"WALKING_DOWNSTAIRS\",4:\"SITTING\",5:\"STANDING\",6:\"LYING\"})"
   ]
  },
  {
   "cell_type": "code",
   "execution_count": 16,
   "id": "14af6e3a",
   "metadata": {},
   "outputs": [
    {
     "data": {
      "text/html": [
       "<div>\n",
       "<style scoped>\n",
       "    .dataframe tbody tr th:only-of-type {\n",
       "        vertical-align: middle;\n",
       "    }\n",
       "\n",
       "    .dataframe tbody tr th {\n",
       "        vertical-align: top;\n",
       "    }\n",
       "\n",
       "    .dataframe thead th {\n",
       "        text-align: right;\n",
       "    }\n",
       "</style>\n",
       "<table border=\"1\" class=\"dataframe\">\n",
       "  <thead>\n",
       "    <tr style=\"text-align: right;\">\n",
       "      <th></th>\n",
       "      <th>tBodyAcc-mean()-X</th>\n",
       "      <th>tBodyAcc-mean()-Y</th>\n",
       "      <th>tBodyAcc-mean()-Z</th>\n",
       "      <th>tBodyAcc-std()-X</th>\n",
       "      <th>tBodyAcc-std()-Y</th>\n",
       "      <th>tBodyAcc-std()-Z</th>\n",
       "      <th>tBodyAcc-mad()-X</th>\n",
       "      <th>tBodyAcc-mad()-Y</th>\n",
       "      <th>tBodyAcc-mad()-Z</th>\n",
       "      <th>tBodyAcc-max()-X</th>\n",
       "      <th>...</th>\n",
       "      <th>angle(tBodyAccMean,gravity)</th>\n",
       "      <th>angle(tBodyAccJerkMean),gravityMean)</th>\n",
       "      <th>angle(tBodyGyroMean,gravityMean)</th>\n",
       "      <th>angle(tBodyGyroJerkMean,gravityMean)</th>\n",
       "      <th>angle(X,gravityMean)</th>\n",
       "      <th>angle(Y,gravityMean)</th>\n",
       "      <th>angle(Z,gravityMean)</th>\n",
       "      <th>subject_id</th>\n",
       "      <th>activity</th>\n",
       "      <th>activity_name</th>\n",
       "    </tr>\n",
       "  </thead>\n",
       "  <tbody>\n",
       "    <tr>\n",
       "      <th>280</th>\n",
       "      <td>0.362616</td>\n",
       "      <td>-0.072425</td>\n",
       "      <td>-0.121190</td>\n",
       "      <td>-0.159938</td>\n",
       "      <td>0.265328</td>\n",
       "      <td>-0.277823</td>\n",
       "      <td>-0.228349</td>\n",
       "      <td>0.297974</td>\n",
       "      <td>-0.357793</td>\n",
       "      <td>0.216303</td>\n",
       "      <td>...</td>\n",
       "      <td>-0.612983</td>\n",
       "      <td>0.547318</td>\n",
       "      <td>0.909750</td>\n",
       "      <td>-0.600122</td>\n",
       "      <td>-0.555039</td>\n",
       "      <td>0.404755</td>\n",
       "      <td>-0.002762</td>\n",
       "      <td>2</td>\n",
       "      <td>2</td>\n",
       "      <td>WALKING_UPSTAIRS</td>\n",
       "    </tr>\n",
       "    <tr>\n",
       "      <th>1835</th>\n",
       "      <td>0.336843</td>\n",
       "      <td>-0.073423</td>\n",
       "      <td>-0.149043</td>\n",
       "      <td>-0.301164</td>\n",
       "      <td>0.574556</td>\n",
       "      <td>-0.364684</td>\n",
       "      <td>-0.329553</td>\n",
       "      <td>0.625624</td>\n",
       "      <td>-0.391828</td>\n",
       "      <td>-0.215107</td>\n",
       "      <td>...</td>\n",
       "      <td>-0.447768</td>\n",
       "      <td>0.698645</td>\n",
       "      <td>-0.966474</td>\n",
       "      <td>-0.028790</td>\n",
       "      <td>-0.607137</td>\n",
       "      <td>0.369513</td>\n",
       "      <td>0.019216</td>\n",
       "      <td>13</td>\n",
       "      <td>2</td>\n",
       "      <td>WALKING_UPSTAIRS</td>\n",
       "    </tr>\n",
       "    <tr>\n",
       "      <th>66</th>\n",
       "      <td>0.339991</td>\n",
       "      <td>-0.039324</td>\n",
       "      <td>-0.113809</td>\n",
       "      <td>-0.855288</td>\n",
       "      <td>-0.886276</td>\n",
       "      <td>-0.917766</td>\n",
       "      <td>-0.878134</td>\n",
       "      <td>-0.876587</td>\n",
       "      <td>-0.932936</td>\n",
       "      <td>-0.859732</td>\n",
       "      <td>...</td>\n",
       "      <td>0.459759</td>\n",
       "      <td>0.115572</td>\n",
       "      <td>-0.047604</td>\n",
       "      <td>0.173557</td>\n",
       "      <td>0.673646</td>\n",
       "      <td>-0.542592</td>\n",
       "      <td>-0.458080</td>\n",
       "      <td>2</td>\n",
       "      <td>6</td>\n",
       "      <td>LYING</td>\n",
       "    </tr>\n",
       "    <tr>\n",
       "      <th>2448</th>\n",
       "      <td>0.275499</td>\n",
       "      <td>-0.000394</td>\n",
       "      <td>-0.153723</td>\n",
       "      <td>-0.965288</td>\n",
       "      <td>-0.912100</td>\n",
       "      <td>-0.898169</td>\n",
       "      <td>-0.969980</td>\n",
       "      <td>-0.915693</td>\n",
       "      <td>-0.901430</td>\n",
       "      <td>-0.895867</td>\n",
       "      <td>...</td>\n",
       "      <td>0.020536</td>\n",
       "      <td>0.672416</td>\n",
       "      <td>-0.024163</td>\n",
       "      <td>0.549596</td>\n",
       "      <td>-0.932743</td>\n",
       "      <td>0.137245</td>\n",
       "      <td>0.044722</td>\n",
       "      <td>20</td>\n",
       "      <td>4</td>\n",
       "      <td>SITTING</td>\n",
       "    </tr>\n",
       "    <tr>\n",
       "      <th>1880</th>\n",
       "      <td>0.277013</td>\n",
       "      <td>-0.016070</td>\n",
       "      <td>-0.106744</td>\n",
       "      <td>-0.991880</td>\n",
       "      <td>-0.959458</td>\n",
       "      <td>-0.952387</td>\n",
       "      <td>-0.992959</td>\n",
       "      <td>-0.961693</td>\n",
       "      <td>-0.951532</td>\n",
       "      <td>-0.927535</td>\n",
       "      <td>...</td>\n",
       "      <td>0.172406</td>\n",
       "      <td>-0.202737</td>\n",
       "      <td>0.923254</td>\n",
       "      <td>0.293555</td>\n",
       "      <td>-0.793169</td>\n",
       "      <td>0.236162</td>\n",
       "      <td>-0.020621</td>\n",
       "      <td>18</td>\n",
       "      <td>5</td>\n",
       "      <td>STANDING</td>\n",
       "    </tr>\n",
       "  </tbody>\n",
       "</table>\n",
       "<p>5 rows × 564 columns</p>\n",
       "</div>"
      ],
      "text/plain": [
       "      tBodyAcc-mean()-X  tBodyAcc-mean()-Y  tBodyAcc-mean()-Z  \\\n",
       "280            0.362616          -0.072425          -0.121190   \n",
       "1835           0.336843          -0.073423          -0.149043   \n",
       "66             0.339991          -0.039324          -0.113809   \n",
       "2448           0.275499          -0.000394          -0.153723   \n",
       "1880           0.277013          -0.016070          -0.106744   \n",
       "\n",
       "      tBodyAcc-std()-X  tBodyAcc-std()-Y  tBodyAcc-std()-Z  tBodyAcc-mad()-X  \\\n",
       "280          -0.159938          0.265328         -0.277823         -0.228349   \n",
       "1835         -0.301164          0.574556         -0.364684         -0.329553   \n",
       "66           -0.855288         -0.886276         -0.917766         -0.878134   \n",
       "2448         -0.965288         -0.912100         -0.898169         -0.969980   \n",
       "1880         -0.991880         -0.959458         -0.952387         -0.992959   \n",
       "\n",
       "      tBodyAcc-mad()-Y  tBodyAcc-mad()-Z  tBodyAcc-max()-X  ...  \\\n",
       "280           0.297974         -0.357793          0.216303  ...   \n",
       "1835          0.625624         -0.391828         -0.215107  ...   \n",
       "66           -0.876587         -0.932936         -0.859732  ...   \n",
       "2448         -0.915693         -0.901430         -0.895867  ...   \n",
       "1880         -0.961693         -0.951532         -0.927535  ...   \n",
       "\n",
       "      angle(tBodyAccMean,gravity)  angle(tBodyAccJerkMean),gravityMean)  \\\n",
       "280                     -0.612983                              0.547318   \n",
       "1835                    -0.447768                              0.698645   \n",
       "66                       0.459759                              0.115572   \n",
       "2448                     0.020536                              0.672416   \n",
       "1880                     0.172406                             -0.202737   \n",
       "\n",
       "      angle(tBodyGyroMean,gravityMean)  angle(tBodyGyroJerkMean,gravityMean)  \\\n",
       "280                           0.909750                             -0.600122   \n",
       "1835                         -0.966474                             -0.028790   \n",
       "66                           -0.047604                              0.173557   \n",
       "2448                         -0.024163                              0.549596   \n",
       "1880                          0.923254                              0.293555   \n",
       "\n",
       "      angle(X,gravityMean)  angle(Y,gravityMean)  angle(Z,gravityMean)  \\\n",
       "280              -0.555039              0.404755             -0.002762   \n",
       "1835             -0.607137              0.369513              0.019216   \n",
       "66                0.673646             -0.542592             -0.458080   \n",
       "2448             -0.932743              0.137245              0.044722   \n",
       "1880             -0.793169              0.236162             -0.020621   \n",
       "\n",
       "      subject_id  activity     activity_name  \n",
       "280            2         2  WALKING_UPSTAIRS  \n",
       "1835          13         2  WALKING_UPSTAIRS  \n",
       "66             2         6             LYING  \n",
       "2448          20         4           SITTING  \n",
       "1880          18         5          STANDING  \n",
       "\n",
       "[5 rows x 564 columns]"
      ]
     },
     "execution_count": 16,
     "metadata": {},
     "output_type": "execute_result"
    }
   ],
   "source": [
    "test_df.sample(5)"
   ]
  },
  {
   "cell_type": "code",
   "execution_count": 17,
   "id": "f62816c3",
   "metadata": {},
   "outputs": [
    {
     "data": {
      "text/plain": [
       "(2947, 564)"
      ]
     },
     "execution_count": 17,
     "metadata": {},
     "output_type": "execute_result"
    }
   ],
   "source": [
    "test_df.shape"
   ]
  },
  {
   "cell_type": "code",
   "execution_count": 18,
   "id": "79494a8e",
   "metadata": {},
   "outputs": [
    {
     "data": {
      "text/plain": [
       "0"
      ]
     },
     "execution_count": 18,
     "metadata": {},
     "output_type": "execute_result"
    }
   ],
   "source": [
    "train_df.isna().sum().sum()"
   ]
  },
  {
   "cell_type": "code",
   "execution_count": 19,
   "id": "288536ca",
   "metadata": {},
   "outputs": [
    {
     "data": {
      "text/plain": [
       "0"
      ]
     },
     "execution_count": 19,
     "metadata": {},
     "output_type": "execute_result"
    }
   ],
   "source": [
    "test_df.isna().sum().sum()"
   ]
  },
  {
   "cell_type": "code",
   "execution_count": 20,
   "id": "3b039d17",
   "metadata": {},
   "outputs": [
    {
     "data": {
      "text/plain": [
       "0"
      ]
     },
     "execution_count": 20,
     "metadata": {},
     "output_type": "execute_result"
    }
   ],
   "source": [
    "sum(train_df.duplicated())"
   ]
  },
  {
   "cell_type": "code",
   "execution_count": 21,
   "id": "0df64657",
   "metadata": {},
   "outputs": [
    {
     "data": {
      "text/plain": [
       "0"
      ]
     },
     "execution_count": 21,
     "metadata": {},
     "output_type": "execute_result"
    }
   ],
   "source": [
    "sum(test_df.duplicated())"
   ]
  },
  {
   "cell_type": "code",
   "execution_count": 22,
   "id": "35a97ffe",
   "metadata": {},
   "outputs": [
    {
     "data": {
      "image/png": "[encoded data removed]",
      "text/plain": [
       "<Figure size 864x576 with 1 Axes>"
      ]
     },
     "metadata": {
      "needs_background": "light"
     },
     "output_type": "display_data"
    }
   ],
   "source": [
    "plt.figure(figsize = (12, 8))\n",
    "plt.title(\"Activity by each test subject\", fontsize = 15)\n",
    "plt.tick_params(labelsize = 15)\n",
    "sns.countplot(x = \"subject_id\", hue = \"activity_name\", data = train_df)\n",
    "plt.xlabel(\"Subject ID\", fontsize = 15)\n",
    "plt.ylabel(\"Count\", fontsize = 15)\n",
    "plt.legend(loc = 'best')\n",
    "plt.show()"
   ]
  },
  {
   "cell_type": "code",
   "execution_count": 23,
   "id": "c61537ac",
   "metadata": {},
   "outputs": [
    {
     "data": {
      "image/png": "[encoded data removed]",
      "text/plain": [
       "<Figure size 720x432 with 1 Axes>"
      ]
     },
     "metadata": {
      "needs_background": "light"
     },
     "output_type": "display_data"
    }
   ],
   "source": [
    "fig = plt.figure(figsize = (10, 6))\n",
    "ax = fig.add_axes([0,0,1,1])\n",
    "ax.set_title(\"Count of each activity\", fontsize = 15)\n",
    "plt.tick_params(labelsize = 10)\n",
    "sns.countplot(x = \"activity_name\", data = train_df)\n",
    "for i in ax.patches:\n",
    "    ax.text(x = i.get_x() + 0.2, y = i.get_height()+10, s = str(i.get_height()), fontsize = 20, color = \"grey\")\n",
    "plt.xlabel(\"\")\n",
    "plt.ylabel(\"Count\", fontsize = 15)\n",
    "plt.tick_params(labelsize = 13)\n",
    "plt.xticks(rotation = 40)\n",
    "plt.show()"
   ]
  },
  {
   "cell_type": "code",
   "execution_count": 24,
   "id": "0820aa3c",
   "metadata": {},
   "outputs": [],
   "source": [
    "columns = train_df.columns"
   ]
  },
  {
   "cell_type": "code",
   "execution_count": 25,
   "id": "ab67734b",
   "metadata": {},
   "outputs": [],
   "source": [
    "columns = columns.str.replace(\"[()]\", '') \n",
    "columns = columns.str.replace(\"-\", '')\n",
    "columns = columns.str.replace(\",\", '')"
   ]
  },
  {
   "cell_type": "code",
   "execution_count": 26,
   "id": "094cf810",
   "metadata": {},
   "outputs": [],
   "source": [
    "train_df.columns = columns\n",
    "test_df.columns = columns"
   ]
  },
  {
   "cell_type": "code",
   "execution_count": 27,
   "id": "5bca3217",
   "metadata": {},
   "outputs": [
    {
     "data": {
      "text/plain": [
       "Index(['tBodyAccmeanX', 'tBodyAccmeanY', 'tBodyAccmeanZ', 'tBodyAccstdX',\n",
       "       'tBodyAccstdY', 'tBodyAccstdZ', 'tBodyAccmadX', 'tBodyAccmadY',\n",
       "       'tBodyAccmadZ', 'tBodyAccmaxX',\n",
       "       ...\n",
       "       'angletBodyAccMeangravity', 'angletBodyAccJerkMeangravityMean',\n",
       "       'angletBodyGyroMeangravityMean', 'angletBodyGyroJerkMeangravityMean',\n",
       "       'angleXgravityMean', 'angleYgravityMean', 'angleZgravityMean',\n",
       "       'subject_id', 'activity', 'activity_name'],\n",
       "      dtype='object', length=564)"
      ]
     },
     "execution_count": 27,
     "metadata": {},
     "output_type": "execute_result"
    }
   ],
   "source": [
    "train_df.columns"
   ]
  },
  {
   "cell_type": "code",
   "execution_count": 28,
   "id": "62dca374",
   "metadata": {},
   "outputs": [
    {
     "data": {
      "text/html": [
       "<div>\n",
       "<style scoped>\n",
       "    .dataframe tbody tr th:only-of-type {\n",
       "        vertical-align: middle;\n",
       "    }\n",
       "\n",
       "    .dataframe tbody tr th {\n",
       "        vertical-align: top;\n",
       "    }\n",
       "\n",
       "    .dataframe thead th {\n",
       "        text-align: right;\n",
       "    }\n",
       "</style>\n",
       "<table border=\"1\" class=\"dataframe\">\n",
       "  <thead>\n",
       "    <tr style=\"text-align: right;\">\n",
       "      <th></th>\n",
       "      <th>tBodyAccmeanX</th>\n",
       "      <th>tBodyAccmeanY</th>\n",
       "      <th>tBodyAccmeanZ</th>\n",
       "      <th>tBodyAccstdX</th>\n",
       "      <th>tBodyAccstdY</th>\n",
       "      <th>tBodyAccstdZ</th>\n",
       "      <th>tBodyAccmadX</th>\n",
       "      <th>tBodyAccmadY</th>\n",
       "      <th>tBodyAccmadZ</th>\n",
       "      <th>tBodyAccmaxX</th>\n",
       "      <th>...</th>\n",
       "      <th>angletBodyAccMeangravity</th>\n",
       "      <th>angletBodyAccJerkMeangravityMean</th>\n",
       "      <th>angletBodyGyroMeangravityMean</th>\n",
       "      <th>angletBodyGyroJerkMeangravityMean</th>\n",
       "      <th>angleXgravityMean</th>\n",
       "      <th>angleYgravityMean</th>\n",
       "      <th>angleZgravityMean</th>\n",
       "      <th>subject_id</th>\n",
       "      <th>activity</th>\n",
       "      <th>activity_name</th>\n",
       "    </tr>\n",
       "  </thead>\n",
       "  <tbody>\n",
       "    <tr>\n",
       "      <th>0</th>\n",
       "      <td>0.288585</td>\n",
       "      <td>-0.020294</td>\n",
       "      <td>-0.132905</td>\n",
       "      <td>-0.995279</td>\n",
       "      <td>-0.983111</td>\n",
       "      <td>-0.913526</td>\n",
       "      <td>-0.995112</td>\n",
       "      <td>-0.983185</td>\n",
       "      <td>-0.923527</td>\n",
       "      <td>-0.934724</td>\n",
       "      <td>...</td>\n",
       "      <td>-0.112754</td>\n",
       "      <td>0.030400</td>\n",
       "      <td>-0.464761</td>\n",
       "      <td>-0.018446</td>\n",
       "      <td>-0.841247</td>\n",
       "      <td>0.179941</td>\n",
       "      <td>-0.058627</td>\n",
       "      <td>1</td>\n",
       "      <td>5</td>\n",
       "      <td>STANDING</td>\n",
       "    </tr>\n",
       "    <tr>\n",
       "      <th>1</th>\n",
       "      <td>0.278419</td>\n",
       "      <td>-0.016411</td>\n",
       "      <td>-0.123520</td>\n",
       "      <td>-0.998245</td>\n",
       "      <td>-0.975300</td>\n",
       "      <td>-0.960322</td>\n",
       "      <td>-0.998807</td>\n",
       "      <td>-0.974914</td>\n",
       "      <td>-0.957686</td>\n",
       "      <td>-0.943068</td>\n",
       "      <td>...</td>\n",
       "      <td>0.053477</td>\n",
       "      <td>-0.007435</td>\n",
       "      <td>-0.732626</td>\n",
       "      <td>0.703511</td>\n",
       "      <td>-0.844788</td>\n",
       "      <td>0.180289</td>\n",
       "      <td>-0.054317</td>\n",
       "      <td>1</td>\n",
       "      <td>5</td>\n",
       "      <td>STANDING</td>\n",
       "    </tr>\n",
       "    <tr>\n",
       "      <th>2</th>\n",
       "      <td>0.279653</td>\n",
       "      <td>-0.019467</td>\n",
       "      <td>-0.113462</td>\n",
       "      <td>-0.995380</td>\n",
       "      <td>-0.967187</td>\n",
       "      <td>-0.978944</td>\n",
       "      <td>-0.996520</td>\n",
       "      <td>-0.963668</td>\n",
       "      <td>-0.977469</td>\n",
       "      <td>-0.938692</td>\n",
       "      <td>...</td>\n",
       "      <td>-0.118559</td>\n",
       "      <td>0.177899</td>\n",
       "      <td>0.100699</td>\n",
       "      <td>0.808529</td>\n",
       "      <td>-0.848933</td>\n",
       "      <td>0.180637</td>\n",
       "      <td>-0.049118</td>\n",
       "      <td>1</td>\n",
       "      <td>5</td>\n",
       "      <td>STANDING</td>\n",
       "    </tr>\n",
       "    <tr>\n",
       "      <th>3</th>\n",
       "      <td>0.279174</td>\n",
       "      <td>-0.026201</td>\n",
       "      <td>-0.123283</td>\n",
       "      <td>-0.996091</td>\n",
       "      <td>-0.983403</td>\n",
       "      <td>-0.990675</td>\n",
       "      <td>-0.997099</td>\n",
       "      <td>-0.982750</td>\n",
       "      <td>-0.989302</td>\n",
       "      <td>-0.938692</td>\n",
       "      <td>...</td>\n",
       "      <td>-0.036788</td>\n",
       "      <td>-0.012892</td>\n",
       "      <td>0.640011</td>\n",
       "      <td>-0.485366</td>\n",
       "      <td>-0.848649</td>\n",
       "      <td>0.181935</td>\n",
       "      <td>-0.047663</td>\n",
       "      <td>1</td>\n",
       "      <td>5</td>\n",
       "      <td>STANDING</td>\n",
       "    </tr>\n",
       "    <tr>\n",
       "      <th>4</th>\n",
       "      <td>0.276629</td>\n",
       "      <td>-0.016570</td>\n",
       "      <td>-0.115362</td>\n",
       "      <td>-0.998139</td>\n",
       "      <td>-0.980817</td>\n",
       "      <td>-0.990482</td>\n",
       "      <td>-0.998321</td>\n",
       "      <td>-0.979672</td>\n",
       "      <td>-0.990441</td>\n",
       "      <td>-0.942469</td>\n",
       "      <td>...</td>\n",
       "      <td>0.123320</td>\n",
       "      <td>0.122542</td>\n",
       "      <td>0.693578</td>\n",
       "      <td>-0.615971</td>\n",
       "      <td>-0.847865</td>\n",
       "      <td>0.185151</td>\n",
       "      <td>-0.043892</td>\n",
       "      <td>1</td>\n",
       "      <td>5</td>\n",
       "      <td>STANDING</td>\n",
       "    </tr>\n",
       "  </tbody>\n",
       "</table>\n",
       "<p>5 rows × 564 columns</p>\n",
       "</div>"
      ],
      "text/plain": [
       "   tBodyAccmeanX  tBodyAccmeanY  tBodyAccmeanZ  tBodyAccstdX  tBodyAccstdY  \\\n",
       "0       0.288585      -0.020294      -0.132905     -0.995279     -0.983111   \n",
       "1       0.278419      -0.016411      -0.123520     -0.998245     -0.975300   \n",
       "2       0.279653      -0.019467      -0.113462     -0.995380     -0.967187   \n",
       "3       0.279174      -0.026201      -0.123283     -0.996091     -0.983403   \n",
       "4       0.276629      -0.016570      -0.115362     -0.998139     -0.980817   \n",
       "\n",
       "   tBodyAccstdZ  tBodyAccmadX  tBodyAccmadY  tBodyAccmadZ  tBodyAccmaxX  ...  \\\n",
       "0     -0.913526     -0.995112     -0.983185     -0.923527     -0.934724  ...   \n",
       "1     -0.960322     -0.998807     -0.974914     -0.957686     -0.943068  ...   \n",
       "2     -0.978944     -0.996520     -0.963668     -0.977469     -0.938692  ...   \n",
       "3     -0.990675     -0.997099     -0.982750     -0.989302     -0.938692  ...   \n",
       "4     -0.990482     -0.998321     -0.979672     -0.990441     -0.942469  ...   \n",
       "\n",
       "   angletBodyAccMeangravity  angletBodyAccJerkMeangravityMean  \\\n",
       "0                 -0.112754                          0.030400   \n",
       "1                  0.053477                         -0.007435   \n",
       "2                 -0.118559                          0.177899   \n",
       "3                 -0.036788                         -0.012892   \n",
       "4                  0.123320                          0.122542   \n",
       "\n",
       "   angletBodyGyroMeangravityMean  angletBodyGyroJerkMeangravityMean  \\\n",
       "0                      -0.464761                          -0.018446   \n",
       "1                      -0.732626                           0.703511   \n",
       "2                       0.100699                           0.808529   \n",
       "3                       0.640011                          -0.485366   \n",
       "4                       0.693578                          -0.615971   \n",
       "\n",
       "   angleXgravityMean  angleYgravityMean  angleZgravityMean  subject_id  \\\n",
       "0          -0.841247           0.179941          -0.058627           1   \n",
       "1          -0.844788           0.180289          -0.054317           1   \n",
       "2          -0.848933           0.180637          -0.049118           1   \n",
       "3          -0.848649           0.181935          -0.047663           1   \n",
       "4          -0.847865           0.185151          -0.043892           1   \n",
       "\n",
       "   activity  activity_name  \n",
       "0         5       STANDING  \n",
       "1         5       STANDING  \n",
       "2         5       STANDING  \n",
       "3         5       STANDING  \n",
       "4         5       STANDING  \n",
       "\n",
       "[5 rows x 564 columns]"
      ]
     },
     "execution_count": 28,
     "metadata": {},
     "output_type": "execute_result"
    }
   ],
   "source": [
    "train_df.head()"
   ]
  },
  {
   "cell_type": "code",
   "execution_count": 29,
   "id": "f7ca6cfa",
   "metadata": {},
   "outputs": [
    {
     "data": {
      "text/html": [
       "<div>\n",
       "<style scoped>\n",
       "    .dataframe tbody tr th:only-of-type {\n",
       "        vertical-align: middle;\n",
       "    }\n",
       "\n",
       "    .dataframe tbody tr th {\n",
       "        vertical-align: top;\n",
       "    }\n",
       "\n",
       "    .dataframe thead th {\n",
       "        text-align: right;\n",
       "    }\n",
       "</style>\n",
       "<table border=\"1\" class=\"dataframe\">\n",
       "  <thead>\n",
       "    <tr style=\"text-align: right;\">\n",
       "      <th></th>\n",
       "      <th>tBodyAccmeanX</th>\n",
       "      <th>tBodyAccmeanY</th>\n",
       "      <th>tBodyAccmeanZ</th>\n",
       "      <th>tBodyAccstdX</th>\n",
       "      <th>tBodyAccstdY</th>\n",
       "      <th>tBodyAccstdZ</th>\n",
       "      <th>tBodyAccmadX</th>\n",
       "      <th>tBodyAccmadY</th>\n",
       "      <th>tBodyAccmadZ</th>\n",
       "      <th>tBodyAccmaxX</th>\n",
       "      <th>...</th>\n",
       "      <th>angletBodyAccMeangravity</th>\n",
       "      <th>angletBodyAccJerkMeangravityMean</th>\n",
       "      <th>angletBodyGyroMeangravityMean</th>\n",
       "      <th>angletBodyGyroJerkMeangravityMean</th>\n",
       "      <th>angleXgravityMean</th>\n",
       "      <th>angleYgravityMean</th>\n",
       "      <th>angleZgravityMean</th>\n",
       "      <th>subject_id</th>\n",
       "      <th>activity</th>\n",
       "      <th>activity_name</th>\n",
       "    </tr>\n",
       "  </thead>\n",
       "  <tbody>\n",
       "    <tr>\n",
       "      <th>0</th>\n",
       "      <td>0.257178</td>\n",
       "      <td>-0.023285</td>\n",
       "      <td>-0.014654</td>\n",
       "      <td>-0.938404</td>\n",
       "      <td>-0.920091</td>\n",
       "      <td>-0.667683</td>\n",
       "      <td>-0.952501</td>\n",
       "      <td>-0.925249</td>\n",
       "      <td>-0.674302</td>\n",
       "      <td>-0.894088</td>\n",
       "      <td>...</td>\n",
       "      <td>0.006462</td>\n",
       "      <td>0.162920</td>\n",
       "      <td>-0.825886</td>\n",
       "      <td>0.271151</td>\n",
       "      <td>-0.720009</td>\n",
       "      <td>0.276801</td>\n",
       "      <td>-0.057978</td>\n",
       "      <td>2</td>\n",
       "      <td>5</td>\n",
       "      <td>STANDING</td>\n",
       "    </tr>\n",
       "    <tr>\n",
       "      <th>1</th>\n",
       "      <td>0.286027</td>\n",
       "      <td>-0.013163</td>\n",
       "      <td>-0.119083</td>\n",
       "      <td>-0.975415</td>\n",
       "      <td>-0.967458</td>\n",
       "      <td>-0.944958</td>\n",
       "      <td>-0.986799</td>\n",
       "      <td>-0.968401</td>\n",
       "      <td>-0.945823</td>\n",
       "      <td>-0.894088</td>\n",
       "      <td>...</td>\n",
       "      <td>-0.083495</td>\n",
       "      <td>0.017500</td>\n",
       "      <td>-0.434375</td>\n",
       "      <td>0.920593</td>\n",
       "      <td>-0.698091</td>\n",
       "      <td>0.281343</td>\n",
       "      <td>-0.083898</td>\n",
       "      <td>2</td>\n",
       "      <td>5</td>\n",
       "      <td>STANDING</td>\n",
       "    </tr>\n",
       "    <tr>\n",
       "      <th>2</th>\n",
       "      <td>0.275485</td>\n",
       "      <td>-0.026050</td>\n",
       "      <td>-0.118152</td>\n",
       "      <td>-0.993819</td>\n",
       "      <td>-0.969926</td>\n",
       "      <td>-0.962748</td>\n",
       "      <td>-0.994403</td>\n",
       "      <td>-0.970735</td>\n",
       "      <td>-0.963483</td>\n",
       "      <td>-0.939260</td>\n",
       "      <td>...</td>\n",
       "      <td>-0.034956</td>\n",
       "      <td>0.202302</td>\n",
       "      <td>0.064103</td>\n",
       "      <td>0.145068</td>\n",
       "      <td>-0.702771</td>\n",
       "      <td>0.280083</td>\n",
       "      <td>-0.079346</td>\n",
       "      <td>2</td>\n",
       "      <td>5</td>\n",
       "      <td>STANDING</td>\n",
       "    </tr>\n",
       "    <tr>\n",
       "      <th>3</th>\n",
       "      <td>0.270298</td>\n",
       "      <td>-0.032614</td>\n",
       "      <td>-0.117520</td>\n",
       "      <td>-0.994743</td>\n",
       "      <td>-0.973268</td>\n",
       "      <td>-0.967091</td>\n",
       "      <td>-0.995274</td>\n",
       "      <td>-0.974471</td>\n",
       "      <td>-0.968897</td>\n",
       "      <td>-0.938610</td>\n",
       "      <td>...</td>\n",
       "      <td>-0.017067</td>\n",
       "      <td>0.154438</td>\n",
       "      <td>0.340134</td>\n",
       "      <td>0.296407</td>\n",
       "      <td>-0.698954</td>\n",
       "      <td>0.284114</td>\n",
       "      <td>-0.077108</td>\n",
       "      <td>2</td>\n",
       "      <td>5</td>\n",
       "      <td>STANDING</td>\n",
       "    </tr>\n",
       "    <tr>\n",
       "      <th>4</th>\n",
       "      <td>0.274833</td>\n",
       "      <td>-0.027848</td>\n",
       "      <td>-0.129527</td>\n",
       "      <td>-0.993852</td>\n",
       "      <td>-0.967445</td>\n",
       "      <td>-0.978295</td>\n",
       "      <td>-0.994111</td>\n",
       "      <td>-0.965953</td>\n",
       "      <td>-0.977346</td>\n",
       "      <td>-0.938610</td>\n",
       "      <td>...</td>\n",
       "      <td>-0.002223</td>\n",
       "      <td>-0.040046</td>\n",
       "      <td>0.736715</td>\n",
       "      <td>-0.118545</td>\n",
       "      <td>-0.692245</td>\n",
       "      <td>0.290722</td>\n",
       "      <td>-0.073857</td>\n",
       "      <td>2</td>\n",
       "      <td>5</td>\n",
       "      <td>STANDING</td>\n",
       "    </tr>\n",
       "  </tbody>\n",
       "</table>\n",
       "<p>5 rows × 564 columns</p>\n",
       "</div>"
      ],
      "text/plain": [
       "   tBodyAccmeanX  tBodyAccmeanY  tBodyAccmeanZ  tBodyAccstdX  tBodyAccstdY  \\\n",
       "0       0.257178      -0.023285      -0.014654     -0.938404     -0.920091   \n",
       "1       0.286027      -0.013163      -0.119083     -0.975415     -0.967458   \n",
       "2       0.275485      -0.026050      -0.118152     -0.993819     -0.969926   \n",
       "3       0.270298      -0.032614      -0.117520     -0.994743     -0.973268   \n",
       "4       0.274833      -0.027848      -0.129527     -0.993852     -0.967445   \n",
       "\n",
       "   tBodyAccstdZ  tBodyAccmadX  tBodyAccmadY  tBodyAccmadZ  tBodyAccmaxX  ...  \\\n",
       "0     -0.667683     -0.952501     -0.925249     -0.674302     -0.894088  ...   \n",
       "1     -0.944958     -0.986799     -0.968401     -0.945823     -0.894088  ...   \n",
       "2     -0.962748     -0.994403     -0.970735     -0.963483     -0.939260  ...   \n",
       "3     -0.967091     -0.995274     -0.974471     -0.968897     -0.938610  ...   \n",
       "4     -0.978295     -0.994111     -0.965953     -0.977346     -0.938610  ...   \n",
       "\n",
       "   angletBodyAccMeangravity  angletBodyAccJerkMeangravityMean  \\\n",
       "0                  0.006462                          0.162920   \n",
       "1                 -0.083495                          0.017500   \n",
       "2                 -0.034956                          0.202302   \n",
       "3                 -0.017067                          0.154438   \n",
       "4                 -0.002223                         -0.040046   \n",
       "\n",
       "   angletBodyGyroMeangravityMean  angletBodyGyroJerkMeangravityMean  \\\n",
       "0                      -0.825886                           0.271151   \n",
       "1                      -0.434375                           0.920593   \n",
       "2                       0.064103                           0.145068   \n",
       "3                       0.340134                           0.296407   \n",
       "4                       0.736715                          -0.118545   \n",
       "\n",
       "   angleXgravityMean  angleYgravityMean  angleZgravityMean  subject_id  \\\n",
       "0          -0.720009           0.276801          -0.057978           2   \n",
       "1          -0.698091           0.281343          -0.083898           2   \n",
       "2          -0.702771           0.280083          -0.079346           2   \n",
       "3          -0.698954           0.284114          -0.077108           2   \n",
       "4          -0.692245           0.290722          -0.073857           2   \n",
       "\n",
       "   activity  activity_name  \n",
       "0         5       STANDING  \n",
       "1         5       STANDING  \n",
       "2         5       STANDING  \n",
       "3         5       STANDING  \n",
       "4         5       STANDING  \n",
       "\n",
       "[5 rows x 564 columns]"
      ]
     },
     "execution_count": 29,
     "metadata": {},
     "output_type": "execute_result"
    }
   ],
   "source": [
    "test_df.head()"
   ]
  },
  {
   "cell_type": "code",
   "execution_count": 30,
   "id": "786dc54d",
   "metadata": {},
   "outputs": [],
   "source": [
    "train_df.to_csv(\"Dataset/train/train_df.csv\", index = False)\n",
    "test_df.to_csv(\"Dataset/test/test_df.csv\", index = False)"
   ]
  },
  {
   "cell_type": "code",
   "execution_count": 31,
   "id": "6c53c0b3",
   "metadata": {},
   "outputs": [],
   "source": [
    "train_df = pd.read_csv(\"Dataset/train/train_df.csv\")\n",
    "test_df = pd.read_csv(\"Dataset/test/test_df.csv\")"
   ]
  },
  {
   "cell_type": "code",
   "execution_count": 32,
   "id": "f62da1d2",
   "metadata": {},
   "outputs": [
    {
     "data": {
      "image/png": "[encoded data removed]",
      "text/plain": [
       "<Figure size 730.625x576 with 1 Axes>"
      ]
     },
     "metadata": {
      "needs_background": "light"
     },
     "output_type": "display_data"
    }
   ],
   "source": [
    "facetgrid = sns.FacetGrid(data = train_df, hue = \"activity_name\", size = 8)\n",
    "facetgrid.map(sns.distplot, \"tBodyAccMagmean\", hist = False).add_legend()\n",
    "plt.annotate('Static Activities(Sitting, Standing, Lying)', xy=(-0.97, 13), xytext=(-0.7, 14),\n",
    "            arrowprops=dict(facecolor='orange', width = 7, headlength = 15), size = 15, color = \"#232b2b\")\n",
    "plt.annotate('Dynamic Activities(Walking, Walking_Upstairs, Walking_Downstairs)', xy=(0.1, 3), xytext=(0.4, 6),\n",
    "            arrowprops=dict(facecolor='orange', width = 7, headlength = 13), size = 15, color = \"#232b2b\")\n",
    "plt.show()"
   ]
  },
  {
   "cell_type": "code",
   "execution_count": 33,
   "id": "b5fc34a9",
   "metadata": {},
   "outputs": [],
   "source": [
    "df_standing = train_df[train_df[\"activity_name\"] == \"STANDING\"]\n",
    "df_sitting = train_df[train_df[\"activity_name\"] == \"SITTING\"]\n",
    "df_lying = train_df[train_df[\"activity_name\"] == \"LYING\"]\n",
    "df_walking = train_df[train_df[\"activity_name\"] == \"WALKING\"]\n",
    "df_walking_upstairs = train_df[train_df[\"activity_name\"] == \"WALKING_UPSTAIRS\"]\n",
    "df_walking_downstairs = train_df[train_df[\"activity_name\"] == \"WALKING_DOWNSTAIRS\"]"
   ]
  },
  {
   "cell_type": "code",
   "execution_count": 34,
   "id": "374618d1",
   "metadata": {},
   "outputs": [
    {
     "data": {
      "image/png": "[encoded data removed]",
      "text/plain": [
       "<Figure size 1008x504 with 2 Axes>"
      ]
     },
     "metadata": {
      "needs_background": "light"
     },
     "output_type": "display_data"
    }
   ],
   "source": [
    "fig, axes = plt.subplots(nrows = 1, ncols = 2, figsize = (14, 7))\n",
    "\n",
    "axes[0].set_title(\"Static Activities for tBodyAccMagmean--Zoomed In\")\n",
    "sns.distplot(df_standing[\"tBodyAccMagmean\"], hist = False, label = \"STANDING\", ax = axes[0])\n",
    "sns.distplot(df_sitting[\"tBodyAccMagmean\"], hist = False, label = \"SITTING\", ax = axes[0])\n",
    "sns.distplot(df_lying[\"tBodyAccMagmean\"], hist = False, label = \"Lying\", ax = axes[0])\n",
    "axes[0].legend(fontsize = 15)\n",
    "axes[0].annotate('Static Activities', xy=(-0.90, 14), xytext=(-0.7, 15),\n",
    "            arrowprops=dict(facecolor='orange', width = 7, headlength = 15), size = 15, color = \"#232b2b\")\n",
    "\n",
    "axes[1].set_title(\"Dynamic Activities for tBodyAccMagmean--Zoomed In\")\n",
    "sns.distplot(df_walking[\"tBodyAccMagmean\"], hist = False, label = \"WALKING\", ax = axes[1])\n",
    "sns.distplot(df_walking_upstairs[\"tBodyAccMagmean\"], hist = False, label = \"WALKING_UPSTAIRS\", ax = axes[1])\n",
    "sns.distplot(df_walking_downstairs[\"tBodyAccMagmean\"], hist = False, label = \"WALKING_DOWNSTAIRS\", ax = axes[1])\n",
    "axes[1].legend(fontsize = 15)\n",
    "axes[1].annotate('Dynamic Activities', xy=(0.37, 1.5), xytext=(0.60, 2.2),\n",
    "            arrowprops=dict(facecolor='orange', width = 7, headlength = 13), size = 14, color = \"#232b2b\")\n",
    "\n",
    "plt.tight_layout()\n",
    "plt.show()"
   ]
  },
  {
   "cell_type": "code",
   "execution_count": 35,
   "id": "77440e63",
   "metadata": {},
   "outputs": [
    {
     "data": {
      "image/png": "[encoded data removed]",
      "text/plain": [
       "<Figure size 1080x504 with 1 Axes>"
      ]
     },
     "metadata": {
      "needs_background": "light"
     },
     "output_type": "display_data"
    }
   ],
   "source": [
    "plt.figure(figsize = (15, 7))\n",
    "sns.boxplot(x = \"activity_name\", y = \"tBodyAccMagmean\", showfliers = False, data = train_df)\n",
    "plt.title(\"Box plot of tBodyAccMagmean\", fontsize = 15)\n",
    "plt.ylabel(\"Accelerator Body Mean\", fontsize = 15)\n",
    "plt.xlabel(\"Activity Name\", fontsize = 15)\n",
    "plt.xlabel(\"\")\n",
    "plt.tick_params(labelsize = 15)\n",
    "plt.xticks(rotation = 40)\n",
    "plt.show()"
   ]
  },
  {
   "cell_type": "code",
   "execution_count": 36,
   "id": "151b324e",
   "metadata": {},
   "outputs": [
    {
     "data": {
      "image/png": "[encoded data removed]",
      "text/plain": [
       "<Figure size 1080x504 with 1 Axes>"
      ]
     },
     "metadata": {
      "needs_background": "light"
     },
     "output_type": "display_data"
    }
   ],
   "source": [
    "plt.figure(figsize = (15, 7))\n",
    "sns.boxplot(x = \"activity_name\", y = \"angleXgravityMean\", showfliers = True, data = train_df)\n",
    "plt.axhline(y = 0, linestyle = \"--\")\n",
    "plt.title(\"Box plot of tBodyAccMagmean\", fontsize = 15)\n",
    "plt.ylabel(\"Accelerator Gravity Mean on X-axis\", fontsize = 15)\n",
    "plt.xlabel(\"\")\n",
    "plt.tick_params(labelsize = 15)\n",
    "plt.xticks(rotation = 40)\n",
    "plt.show()"
   ]
  },
  {
   "cell_type": "code",
   "execution_count": 37,
   "id": "eba214e7",
   "metadata": {},
   "outputs": [
    {
     "data": {
      "text/plain": [
       "((7352, 561), (7352,), (2947, 561), (2947,))"
      ]
     },
     "execution_count": 37,
     "metadata": {},
     "output_type": "execute_result"
    }
   ],
   "source": [
    "x_train = train_df.drop([\"subject_id\", \"activity\", \"activity_name\"], axis = 1)\n",
    "y_train = train_df[\"activity\"]\n",
    "\n",
    "x_test = test_df.drop([\"subject_id\", \"activity\", \"activity_name\"], axis = 1)\n",
    "y_test = test_df[\"activity\"]\n",
    "\n",
    "x_train.shape, y_train.shape, x_test.shape, y_test.shape"
   ]
  },
  {
   "cell_type": "code",
   "execution_count": 38,
   "id": "d7036d7b",
   "metadata": {},
   "outputs": [],
   "source": [
    "from sklearn.model_selection import GridSearchCV\n",
    "from sklearn.linear_model import LogisticRegression\n",
    "\n",
    "from sklearn.metrics import accuracy_score, confusion_matrix"
   ]
  },
  {
   "cell_type": "code",
   "execution_count": 39,
   "id": "17201c73",
   "metadata": {},
   "outputs": [],
   "source": [
    "parameters01 = {\"C\": [0.001, 0.01, 0.1, 1, 10**1, 10**2, 10**3], \"penalty\": [\"l1\", \"l2\"]}\n",
    "clf01 = LogisticRegression(multi_class = \"ovr\")\n",
    "cross_val01 = GridSearchCV(clf01, parameters01, cv=3)"
   ]
  },
  {
   "cell_type": "code",
   "execution_count": 40,
   "id": "2f190b22",
   "metadata": {},
   "outputs": [
    {
     "data": {
      "text/plain": [
       "GridSearchCV(cv=3, estimator=LogisticRegression(multi_class='ovr'),\n",
       "             param_grid={'C': [0.001, 0.01, 0.1, 1, 10, 100, 1000],\n",
       "                         'penalty': ['l1', 'l2']})"
      ]
     },
     "execution_count": 40,
     "metadata": {},
     "output_type": "execute_result"
    }
   ],
   "source": [
    "cross_val01.fit(x_train, y_train)"
   ]
  },
  {
   "cell_type": "code",
   "execution_count": 41,
   "id": "fddb649a",
   "metadata": {},
   "outputs": [],
   "source": [
    "predicted01 = cross_val01.predict(x_test)"
   ]
  },
  {
   "cell_type": "code",
   "execution_count": 42,
   "id": "cbd063f0",
   "metadata": {},
   "outputs": [
    {
     "name": "stdout",
     "output_type": "stream",
     "text": [
      "Accuracy with LogisticRegression =  96.3\n"
     ]
    }
   ],
   "source": [
    "print(\"Accuracy with LogisticRegression = \", np.round(accuracy_score(y_true= y_test, y_pred=predicted01)*100, 2))"
   ]
  },
  {
   "cell_type": "code",
   "execution_count": 43,
   "id": "e7ce4222",
   "metadata": {},
   "outputs": [
    {
     "data": {
      "text/plain": [
       "array([[496,   0,   0,   0,   0,   0],\n",
       "       [ 19, 451,   1,   0,   0,   0],\n",
       "       [  3,   6, 411,   0,   0,   0],\n",
       "       [  0,   2,   0, 420,  68,   1],\n",
       "       [  1,   0,   0,   8, 523,   0],\n",
       "       [  0,   0,   0,   0,   0, 537]], dtype=int64)"
      ]
     },
     "execution_count": 43,
     "metadata": {},
     "output_type": "execute_result"
    }
   ],
   "source": [
    "confusion_matrix(y_true=y_test, y_pred= predicted01)"
   ]
  },
  {
   "cell_type": "code",
   "execution_count": 44,
   "id": "74bff00a",
   "metadata": {},
   "outputs": [],
   "source": [
    "from sklearn.svm import SVC"
   ]
  },
  {
   "cell_type": "code",
   "execution_count": 45,
   "id": "f18d5f25",
   "metadata": {},
   "outputs": [],
   "source": [
    "parameters02 = {\"C\": [0.001, 0.01, 0.1, 1, 10**1, 10**2, 10**3]}\n",
    "clf02 = SVC()\n",
    "cross_val02 = GridSearchCV(clf02, parameters02, cv=3)"
   ]
  },
  {
   "cell_type": "code",
   "execution_count": 46,
   "id": "1c3dafcf",
   "metadata": {},
   "outputs": [
    {
     "data": {
      "text/plain": [
       "GridSearchCV(cv=3, estimator=SVC(),\n",
       "             param_grid={'C': [0.001, 0.01, 0.1, 1, 10, 100, 1000]})"
      ]
     },
     "execution_count": 46,
     "metadata": {},
     "output_type": "execute_result"
    }
   ],
   "source": [
    "cross_val02.fit(x_train, y_train)"
   ]
  },
  {
   "cell_type": "code",
   "execution_count": 47,
   "id": "28a5e936",
   "metadata": {},
   "outputs": [],
   "source": [
    "predicted02 = cross_val02.predict(x_test)"
   ]
  },
  {
   "cell_type": "code",
   "execution_count": 48,
   "id": "7f6d9385",
   "metadata": {},
   "outputs": [
    {
     "name": "stdout",
     "output_type": "stream",
     "text": [
      "Accuracy with SVM =  96.54\n"
     ]
    }
   ],
   "source": [
    "print(\"Accuracy with SVM = \", np.round(accuracy_score(y_true= y_test, y_pred=predicted02)*100, 2))"
   ]
  },
  {
   "cell_type": "code",
   "execution_count": 49,
   "id": "bc4e82a3",
   "metadata": {},
   "outputs": [
    {
     "data": {
      "text/plain": [
       "array([[489,   4,   3,   0,   0,   0],\n",
       "       [ 16, 454,   1,   0,   0,   0],\n",
       "       [  4,  18, 398,   0,   0,   0],\n",
       "       [  0,   2,   0, 443,  46,   0],\n",
       "       [  0,   0,   0,   8, 524,   0],\n",
       "       [  0,   0,   0,   0,   0, 537]], dtype=int64)"
      ]
     },
     "execution_count": 49,
     "metadata": {},
     "output_type": "execute_result"
    }
   ],
   "source": [
    "confusion_matrix(y_true=y_test, y_pred= predicted02)"
   ]
  },
  {
   "cell_type": "code",
   "execution_count": 50,
   "id": "3b0b15b2",
   "metadata": {},
   "outputs": [],
   "source": [
    "from sklearn.tree import DecisionTreeClassifier"
   ]
  },
  {
   "cell_type": "code",
   "execution_count": 51,
   "id": "313cf652",
   "metadata": {},
   "outputs": [],
   "source": [
    "parameters03 = {\"max_depth\": [2, 3, 4, 5, 6, 7, 8]}\n",
    "clf03 = DecisionTreeClassifier()\n",
    "cross_val03 = GridSearchCV(clf03, parameters03, cv=3)"
   ]
  },
  {
   "cell_type": "code",
   "execution_count": 52,
   "id": "6eb1d0d0",
   "metadata": {},
   "outputs": [
    {
     "data": {
      "text/plain": [
       "GridSearchCV(cv=3, estimator=DecisionTreeClassifier(),\n",
       "             param_grid={'max_depth': [2, 3, 4, 5, 6, 7, 8]})"
      ]
     },
     "execution_count": 52,
     "metadata": {},
     "output_type": "execute_result"
    }
   ],
   "source": [
    "cross_val03.fit(x_train, y_train)"
   ]
  },
  {
   "cell_type": "code",
   "execution_count": 53,
   "id": "90106fcf",
   "metadata": {},
   "outputs": [],
   "source": [
    "predicted03 = cross_val03.predict(x_test)"
   ]
  },
  {
   "cell_type": "code",
   "execution_count": 54,
   "id": "49a7a790",
   "metadata": {},
   "outputs": [
    {
     "name": "stdout",
     "output_type": "stream",
     "text": [
      "Accuracy with DecisionTree =  85.61\n"
     ]
    }
   ],
   "source": [
    "print(\"Accuracy with DecisionTree = \", np.round(accuracy_score(y_true= y_test, y_pred=predicted03)*100, 2))"
   ]
  },
  {
   "cell_type": "code",
   "execution_count": 55,
   "id": "f4adbecd",
   "metadata": {},
   "outputs": [
    {
     "data": {
      "text/plain": [
       "array([[462,   5,  29,   0,   0,   0],\n",
       "       [ 43, 343,  85,   0,   0,   0],\n",
       "       [ 30,  45, 345,   0,   0,   0],\n",
       "       [  0,   0,   0, 347, 144,   0],\n",
       "       [  0,   0,   0,  43, 489,   0],\n",
       "       [  0,   0,   0,   0,   0, 537]], dtype=int64)"
      ]
     },
     "execution_count": 55,
     "metadata": {},
     "output_type": "execute_result"
    }
   ],
   "source": [
    "confusion_matrix(y_true=y_test, y_pred= predicted03)"
   ]
  },
  {
   "cell_type": "code",
   "execution_count": 56,
   "id": "6eec0987",
   "metadata": {},
   "outputs": [],
   "source": [
    "from sklearn.ensemble import RandomForestClassifier"
   ]
  },
  {
   "cell_type": "code",
   "execution_count": 57,
   "id": "12565289",
   "metadata": {},
   "outputs": [],
   "source": [
    "parameters04 = {\"n_estimators\": [50, 100, 200, 400, 800]}\n",
    "clf04 = RandomForestClassifier()\n",
    "cross_val04 = GridSearchCV(clf04, parameters04, cv=3)"
   ]
  },
  {
   "cell_type": "code",
   "execution_count": 58,
   "id": "8f6b5108",
   "metadata": {},
   "outputs": [
    {
     "data": {
      "text/plain": [
       "GridSearchCV(cv=3, estimator=RandomForestClassifier(),\n",
       "             param_grid={'n_estimators': [50, 100, 200, 400, 800]})"
      ]
     },
     "execution_count": 58,
     "metadata": {},
     "output_type": "execute_result"
    }
   ],
   "source": [
    "cross_val04.fit(x_train, y_train)"
   ]
  },
  {
   "cell_type": "code",
   "execution_count": 59,
   "id": "89b17fd3",
   "metadata": {},
   "outputs": [],
   "source": [
    "predicted04 = cross_val04.predict(x_test)"
   ]
  },
  {
   "cell_type": "code",
   "execution_count": 60,
   "id": "4edfb3b0",
   "metadata": {},
   "outputs": [
    {
     "name": "stdout",
     "output_type": "stream",
     "text": [
      "Accuracy with Random Forest =  92.33\n"
     ]
    }
   ],
   "source": [
    "print(\"Accuracy with Random Forest = \", np.round(accuracy_score(y_true= y_test, y_pred=predicted04)*100, 2))"
   ]
  },
  {
   "cell_type": "code",
   "execution_count": 61,
   "id": "a14d6662",
   "metadata": {},
   "outputs": [
    {
     "data": {
      "text/plain": [
       "array([[479,   7,  10,   0,   0,   0],\n",
       "       [ 44, 420,   7,   0,   0,   0],\n",
       "       [ 19,  46, 355,   0,   0,   0],\n",
       "       [  0,   0,   0, 442,  49,   0],\n",
       "       [  0,   0,   0,  44, 488,   0],\n",
       "       [  0,   0,   0,   0,   0, 537]], dtype=int64)"
      ]
     },
     "execution_count": 61,
     "metadata": {},
     "output_type": "execute_result"
    }
   ],
   "source": [
    "confusion_matrix(y_true= y_test, y_pred=predicted04)"
   ]
  },
  {
   "cell_type": "code",
   "execution_count": 62,
   "id": "3d34b6e6",
   "metadata": {},
   "outputs": [],
   "source": [
    "from sklearn.ensemble import GradientBoostingClassifier"
   ]
  },
  {
   "cell_type": "code",
   "execution_count": 63,
   "id": "f0a865c4",
   "metadata": {},
   "outputs": [],
   "source": [
    "parameters05 = {\"n_estimators\": [50, 100], \"max_depth\":[1, 3]}\n",
    "clf05 = GradientBoostingClassifier()\n",
    "cross_val05 = GridSearchCV(clf05, parameters05, cv=3)"
   ]
  },
  {
   "cell_type": "code",
   "execution_count": 64,
   "id": "f1c5ff6f",
   "metadata": {},
   "outputs": [
    {
     "data": {
      "text/plain": [
       "GridSearchCV(cv=3, estimator=GradientBoostingClassifier(),\n",
       "             param_grid={'max_depth': [1, 3], 'n_estimators': [50, 100]})"
      ]
     },
     "execution_count": 64,
     "metadata": {},
     "output_type": "execute_result"
    }
   ],
   "source": [
    "cross_val05.fit(x_train, y_train)"
   ]
  },
  {
   "cell_type": "code",
   "execution_count": 65,
   "id": "e151797b",
   "metadata": {},
   "outputs": [],
   "source": [
    "predicted05 = cross_val05.predict(x_test)"
   ]
  },
  {
   "cell_type": "code",
   "execution_count": 66,
   "id": "799b074d",
   "metadata": {},
   "outputs": [
    {
     "name": "stdout",
     "output_type": "stream",
     "text": [
      "Accuracy with Gradient Boost =  92.33\n"
     ]
    }
   ],
   "source": [
    "print(\"Accuracy with Gradient Boost = \", np.round(accuracy_score(y_true= y_test, y_pred=predicted04)*100, 2))"
   ]
  },
  {
   "cell_type": "code",
   "execution_count": 67,
   "id": "78526a30",
   "metadata": {},
   "outputs": [
    {
     "data": {
      "text/plain": [
       "array([[487,   3,   6,   0,   0,   0],\n",
       "       [ 41, 415,   5,   9,   1,   0],\n",
       "       [ 30,  40, 349,   0,   1,   0],\n",
       "       [  0,   5,   0, 402,  84,   0],\n",
       "       [  0,   5,   0,  41, 486,   0],\n",
       "       [  0,   0,   0,   0,   0, 537]], dtype=int64)"
      ]
     },
     "execution_count": 67,
     "metadata": {},
     "output_type": "execute_result"
    }
   ],
   "source": [
    "confusion_matrix(y_true = y_test, y_pred = predicted05)"
   ]
  },
  {
   "cell_type": "markdown",
   "id": "6627ce90",
   "metadata": {},
   "source": [
    "## LSTM"
   ]
  },
  {
   "cell_type": "code",
   "execution_count": 2,
   "id": "ad09811b",
   "metadata": {},
   "outputs": [],
   "source": [
    "from keras.models import Sequential\n",
    "from keras.layers import LSTM\n",
    "from keras.layers.core import Dense, Dropout\n",
    "from hyperopt import Trials, STATUS_OK, tpe\n",
    "from hyperas import optim\n",
    "from hyperas.distributions import choice, uniform"
   ]
  },
  {
   "cell_type": "code",
   "execution_count": 3,
   "id": "e17ab6c1",
   "metadata": {},
   "outputs": [],
   "source": [
    "all_signals_list = [\"body_acc_x_\", \"body_acc_y_\", \"body_acc_z_\", \"body_gyro_x_\", \"body_gyro_y_\", \"body_gyro_z_\", \n",
    "                   \"total_acc_x_\", \"total_acc_y_\", \"total_acc_z_\"]"
   ]
  },
  {
   "cell_type": "code",
   "execution_count": 4,
   "id": "74ebd314",
   "metadata": {},
   "outputs": [],
   "source": [
    "def reading_data(filename):\n",
    "    return pd.read_csv(filename, delim_whitespace = True, header = None)"
   ]
  },
  {
   "cell_type": "code",
   "execution_count": 5,
   "id": "bf537ed7",
   "metadata": {},
   "outputs": [],
   "source": [
    "def total_signal_matrix(trainOrTest):\n",
    "    complete_data = []\n",
    "    for signal in all_signals_list:\n",
    "        complete_data.append(reading_data(\"Dataset/\"+ trainOrTest +\"/Inertial Signals/\"+ signal + trainOrTest +\".txt\").values)\n",
    "    return np.transpose(complete_data, (1, 2, 0))"
   ]
  },
  {
   "cell_type": "code",
   "execution_count": 6,
   "id": "e4465f0a",
   "metadata": {},
   "outputs": [],
   "source": [
    "def load_labels(subset):\n",
    "    filename = \"Dataset/\"+subset+\"/y_\"+subset+\".txt\"\n",
    "    y = reading_data(filename)\n",
    "    return pd.get_dummies(y[0]).values"
   ]
  },
  {
   "cell_type": "code",
   "execution_count": 7,
   "id": "ae437afc",
   "metadata": {},
   "outputs": [],
   "source": [
    "def load_full_data():\n",
    "    x_train = total_signal_matrix(\"train\")\n",
    "    y_train = load_labels(\"train\")\n",
    "    x_test = total_signal_matrix(\"test\")\n",
    "    y_test = load_labels(\"test\")\n",
    "    return x_train, y_train, x_test, y_test"
   ]
  },
  {
   "cell_type": "code",
   "execution_count": 8,
   "id": "8b0a5808",
   "metadata": {},
   "outputs": [],
   "source": [
    "x_train, y_train, x_test, y_test = load_full_data()"
   ]
  },
  {
   "cell_type": "code",
   "execution_count": 9,
   "id": "e082e80f",
   "metadata": {},
   "outputs": [
    {
     "data": {
      "text/plain": [
       "((7352, 128, 9), (7352, 6), (2947, 128, 9), (2947, 6))"
      ]
     },
     "execution_count": 9,
     "metadata": {},
     "output_type": "execute_result"
    }
   ],
   "source": [
    "x_train.shape, y_train.shape, x_test.shape, y_test.shape"
   ]
  },
  {
   "cell_type": "code",
   "execution_count": 10,
   "id": "38eb0ca3",
   "metadata": {},
   "outputs": [],
   "source": [
    "np.save(\"Dataset/nptrain\", x_train)\n",
    "np.save(\"Dataset/nptrain_label\", y_train)\n",
    "np.save(\"Dataset/nptest\", x_test)\n",
    "np.save(\"Dataset/nptest_label\", y_test)"
   ]
  },
  {
   "cell_type": "code",
   "execution_count": 11,
   "id": "3d759278",
   "metadata": {},
   "outputs": [],
   "source": [
    "def data():\n",
    "    x_train = np.load(\"Dataset/nptrain.npy\")\n",
    "    y_train = np.load(\"Dataset/nptrain_label.npy\")\n",
    "    x_test = np.load(\"Dataset/nptest.npy\")\n",
    "    y_test = np.load(\"Dataset/nptest_label.npy\")\n",
    "    return x_train, y_train, x_test, y_test"
   ]
  },
  {
   "cell_type": "code",
   "execution_count": 12,
   "id": "6648ad42",
   "metadata": {},
   "outputs": [],
   "source": [
    "def count_unique_classes(y_train):\n",
    "    return len(set([tuple(a) for a in y_train]))"
   ]
  },
  {
   "cell_type": "code",
   "execution_count": 13,
   "id": "592ba4fd",
   "metadata": {},
   "outputs": [],
   "source": [
    "def create_model(x_train, y_train, x_test, y_test):\n",
    "    \n",
    "    epochs = 8\n",
    "    batch_size = 32\n",
    "    timesteps = x_train.shape[1]\n",
    "    input_dim = len(x_train[0][0])\n",
    "    n_classes = 6\n",
    "    \n",
    "    model = Sequential()\n",
    "    \n",
    "    model.add(LSTM(64, return_sequences = True, input_shape = (timesteps, input_dim)))\n",
    "    model.add(Dropout({{uniform(0, 1)}}))\n",
    "    \n",
    "    model.add(LSTM({{choice([32, 16])}}))\n",
    "    model.add(Dropout({{uniform(0, 1)}}))\n",
    "    \n",
    "    model.add(Dense(n_classes, activation='sigmoid'))\n",
    "    \n",
    "    print(model.summary())\n",
    "    \n",
    "    model.compile(loss='categorical_crossentropy', metrics=['accuracy'], optimizer='rmsprop')\n",
    "    \n",
    "    result = model.fit(x_train, y_train, batch_size = batch_size, epochs=epochs, verbose=2, validation_split=0.01)\n",
    "    \n",
    "    validation_acc = np.amax(result.history['val_accuracy']) \n",
    "    \n",
    "    print('Best validation acc of epoch:', validation_acc)\n",
    "    \n",
    "    return {'loss': -validation_acc, 'status': STATUS_OK, 'model': model}"
   ]
  },
  {
   "cell_type": "code",
   "execution_count": 14,
   "id": "1a46573d",
   "metadata": {},
   "outputs": [
    {
     "name": "stdout",
     "output_type": "stream",
     "text": [
      ">>> Imports:\n",
      "#coding=utf-8\n",
      "\n",
      "try:\n",
      "    import numpy as np\n",
      "except:\n",
      "    pass\n",
      "\n",
      "try:\n",
      "    import pandas as pd\n",
      "except:\n",
      "    pass\n",
      "\n",
      "try:\n",
      "    import seaborn as sns\n",
      "except:\n",
      "    pass\n",
      "\n",
      "try:\n",
      "    import matplotlib.pyplot as plt\n",
      "except:\n",
      "    pass\n",
      "\n",
      "try:\n",
      "    from datetime import datetime\n",
      "except:\n",
      "    pass\n",
      "\n",
      "try:\n",
      "    import warnings\n",
      "except:\n",
      "    pass\n",
      "\n",
      "try:\n",
      "    from sklearn.model_selection import GridSearchCV\n",
      "except:\n",
      "    pass\n",
      "\n",
      "try:\n",
      "    from sklearn.linear_model import LogisticRegression\n",
      "except:\n",
      "    pass\n",
      "\n",
      "try:\n",
      "    from sklearn.metrics import accuracy_score, confusion_matrix\n",
      "except:\n",
      "    pass\n",
      "\n",
      "try:\n",
      "    from sklearn.svm import SVC\n",
      "except:\n",
      "    pass\n",
      "\n",
      "try:\n",
      "    from sklearn.tree import DecisionTreeClassifier\n",
      "except:\n",
      "    pass\n",
      "\n",
      "try:\n",
      "    from sklearn.ensemble import RandomForestClassifier\n",
      "except:\n",
      "    pass\n",
      "\n",
      "try:\n",
      "    from sklearn.ensemble import GradientBoostingClassifier\n",
      "except:\n",
      "    pass\n",
      "\n",
      "try:\n",
      "    from keras.models import Sequential\n",
      "except:\n",
      "    pass\n",
      "\n",
      "try:\n",
      "    from keras.layers import LSTM\n",
      "except:\n",
      "    pass\n",
      "\n",
      "try:\n",
      "    from keras.layers.core import Dense, Dropout\n",
      "except:\n",
      "    pass\n",
      "\n",
      "try:\n",
      "    from hyperopt import Trials, STATUS_OK, tpe\n",
      "except:\n",
      "    pass\n",
      "\n",
      "try:\n",
      "    from hyperas import optim\n",
      "except:\n",
      "    pass\n",
      "\n",
      "try:\n",
      "    from hyperas.distributions import choice, uniform\n",
      "except:\n",
      "    pass\n",
      "\n",
      ">>> Hyperas search space:\n",
      "\n",
      "def get_space():\n",
      "    return {\n",
      "        'Dropout': hp.uniform('Dropout', 0, 1),\n",
      "        'LSTM': hp.choice('LSTM', [32, 16]),\n",
      "        'Dropout_1': hp.uniform('Dropout_1', 0, 1),\n",
      "    }\n",
      "\n",
      ">>> Data\n",
      "  1: \n",
      "  2: x_train = np.load(\"Dataset/nptrain.npy\")\n",
      "  3: y_train = np.load(\"Dataset/nptrain_label.npy\")\n",
      "  4: x_test = np.load(\"Dataset/nptest.npy\")\n",
      "  5: y_test = np.load(\"Dataset/nptest_label.npy\")\n",
      "  6: \n",
      "  7: \n",
      "  8: \n",
      ">>> Resulting replaced keras model:\n",
      "\n",
      "  1: def keras_fmin_fnct(space):\n",
      "  2: \n",
      "  3:     \n",
      "  4:     epochs = 8\n",
      "  5:     batch_size = 32\n",
      "  6:     timesteps = x_train.shape[1]\n",
      "  7:     input_dim = len(x_train[0][0])\n",
      "  8:     n_classes = 6\n",
      "  9:     \n",
      " 10:     model = Sequential()\n",
      " 11:     \n",
      " 12:     model.add(LSTM(64, return_sequences = True, input_shape = (timesteps, input_dim)))\n",
      " 13:     model.add(Dropout(space['Dropout']))\n",
      " 14:     \n",
      " 15:     model.add(LSTM(space['LSTM']))\n",
      " 16:     model.add(Dropout(space['Dropout_1']))\n",
      " 17:     \n",
      " 18:     model.add(Dense(n_classes, activation='sigmoid'))\n",
      " 19:     \n",
      " 20:     print(model.summary())\n",
      " 21:     \n",
      " 22:     model.compile(loss='categorical_crossentropy', metrics=['accuracy'], optimizer='rmsprop')\n",
      " 23:     \n",
      " 24:     result = model.fit(x_train, y_train, batch_size = batch_size, epochs=epochs, verbose=2, validation_split=0.01)\n",
      " 25:     \n",
      " 26:     validation_acc = np.amax(result.history['val_accuracy']) \n",
      " 27:     \n",
      " 28:     print('Best validation acc of epoch:', validation_acc)\n",
      " 29:     \n",
      " 30:     return {'loss': -validation_acc, 'status': STATUS_OK, 'model': model}\n",
      " 31: \n",
      "Model: \"sequential\"                                                                                                    \n",
      "_________________________________________________________________                                                      \n",
      " Layer (type)                Output Shape              Param #                                                         \n",
      "=================================================================                                                      \n",
      " lstm (LSTM)                 (None, 128, 64)           18944                                                           \n",
      " dropout (Dropout)           (None, 128, 64)           0                                                               \n",
      " lstm_1 (LSTM)               (None, 32)                12416                                                           \n",
      " dropout_1 (Dropout)         (None, 32)                0                                                               \n",
      " dense (Dense)               (None, 6)                 198                                                             \n",
      "=================================================================                                                      \n",
      "Total params: 31,558                                                                                                   \n",
      "Trainable params: 31,558                                                                                               \n",
      "Non-trainable params: 0                                                                                                \n",
      "_________________________________________________________________                                                      \n",
      "None                                                                                                                   \n",
      "Epoch 1/8                                                                                                              \n",
      "228/228 - 24s - loss: 1.0780 - accuracy: 0.5407 - val_loss: 1.0926 - val_accuracy: 0.4595 - 24s/epoch - 107ms/step     \n",
      "\n",
      "Epoch 2/8                                                                                                              \n",
      "228/228 - 18s - loss: 0.6776 - accuracy: 0.7192 - val_loss: 0.9066 - val_accuracy: 0.6757 - 18s/epoch - 81ms/step      \n",
      "\n",
      "Epoch 3/8                                                                                                              \n",
      "228/228 - 18s - loss: 0.4454 - accuracy: 0.8585 - val_loss: 0.0853 - val_accuracy: 1.0000 - 18s/epoch - 80ms/step      \n",
      "\n",
      "Epoch 4/8                                                                                                              \n",
      "228/228 - 23s - loss: 0.2927 - accuracy: 0.9114 - val_loss: 0.0195 - val_accuracy: 1.0000 - 23s/epoch - 99ms/step      \n",
      "\n",
      "Epoch 5/8                                                                                                              \n",
      "228/228 - 19s - loss: 0.2488 - accuracy: 0.9242 - val_loss: 0.0101 - val_accuracy: 1.0000 - 19s/epoch - 81ms/step      \n",
      "\n",
      "Epoch 6/8                                                                                                              \n",
      "228/228 - 19s - loss: 0.2096 - accuracy: 0.9336 - val_loss: 0.0064 - val_accuracy: 1.0000 - 19s/epoch - 81ms/step      \n",
      "\n",
      "Epoch 7/8                                                                                                              \n",
      "228/228 - 23s - loss: 0.2156 - accuracy: 0.9268 - val_loss: 0.0021 - val_accuracy: 1.0000 - 23s/epoch - 103ms/step     \n",
      "\n",
      "Epoch 8/8                                                                                                              \n",
      "228/228 - 19s - loss: 0.1816 - accuracy: 0.9361 - val_loss: 0.0239 - val_accuracy: 0.9865 - 19s/epoch - 84ms/step      \n",
      "\n",
      "Best validation acc of epoch:                                                                                          \n",
      "1.0                                                                                                                    \n",
      "Model: \"sequential_1\"                                                                                                  \n",
      "_________________________________________________________________                                                      \n",
      " Layer (type)                Output Shape              Param #                                                         \n",
      "=================================================================                                                      \n",
      " lstm_2 (LSTM)               (None, 128, 64)           18944                                                           \n",
      " dropout_2 (Dropout)         (None, 128, 64)           0                                                               \n",
      " lstm_3 (LSTM)               (None, 16)                5184                                                            \n",
      " dropout_3 (Dropout)         (None, 16)                0                                                               \n",
      " dense_1 (Dense)             (None, 6)                 102                                                             \n",
      "=================================================================                                                      \n",
      "Total params: 24,230                                                                                                   \n"
     ]
    },
    {
     "name": "stdout",
     "output_type": "stream",
     "text": [
      "Trainable params: 24,230                                                                                               \n",
      "Non-trainable params: 0                                                                                                \n",
      "_________________________________________________________________                                                      \n",
      "None                                                                                                                   \n",
      "Epoch 1/8                                                                                                              \n",
      "228/228 - 21s - loss: 1.5382 - accuracy: 0.3189 - val_loss: 1.5994 - val_accuracy: 0.2297 - 21s/epoch - 92ms/step      \n",
      "\n",
      "Epoch 2/8                                                                                                              \n",
      "228/228 - 19s - loss: 1.2943 - accuracy: 0.4360 - val_loss: 1.3688 - val_accuracy: 0.2162 - 19s/epoch - 83ms/step      \n",
      "\n",
      "Epoch 3/8                                                                                                              \n",
      "228/228 - 22s - loss: 1.1619 - accuracy: 0.4695 - val_loss: 1.2645 - val_accuracy: 0.2162 - 22s/epoch - 95ms/step      \n",
      "\n",
      "Epoch 4/8                                                                                                              \n",
      "228/228 - 18s - loss: 1.1380 - accuracy: 0.4673 - val_loss: 1.2069 - val_accuracy: 0.2162 - 18s/epoch - 77ms/step      \n",
      "\n",
      "Epoch 5/8                                                                                                              \n",
      "228/228 - 18s - loss: 1.0674 - accuracy: 0.4845 - val_loss: 1.1697 - val_accuracy: 0.2162 - 18s/epoch - 78ms/step      \n",
      "\n",
      "Epoch 6/8                                                                                                              \n",
      "228/228 - 17s - loss: 1.0875 - accuracy: 0.4896 - val_loss: 1.1492 - val_accuracy: 0.2162 - 17s/epoch - 76ms/step      \n",
      "\n",
      "Epoch 7/8                                                                                                              \n",
      "228/228 - 18s - loss: 1.0521 - accuracy: 0.4919 - val_loss: 1.1394 - val_accuracy: 0.2162 - 18s/epoch - 77ms/step      \n",
      "\n",
      "Epoch 8/8                                                                                                              \n",
      "228/228 - 17s - loss: 1.0395 - accuracy: 0.4985 - val_loss: 1.1259 - val_accuracy: 0.2162 - 17s/epoch - 76ms/step      \n",
      "\n",
      "Best validation acc of epoch:                                                                                          \n",
      "0.22972972691059113                                                                                                    \n",
      "Model: \"sequential_2\"                                                                                                  \n",
      "_________________________________________________________________                                                      \n",
      " Layer (type)                Output Shape              Param #                                                         \n",
      "=================================================================                                                      \n",
      " lstm_4 (LSTM)               (None, 128, 64)           18944                                                           \n",
      " dropout_4 (Dropout)         (None, 128, 64)           0                                                               \n",
      " lstm_5 (LSTM)               (None, 16)                5184                                                            \n",
      " dropout_5 (Dropout)         (None, 16)                0                                                               \n",
      " dense_2 (Dense)             (None, 6)                 102                                                             \n",
      "=================================================================                                                      \n",
      "Total params: 24,230                                                                                                   \n",
      "Trainable params: 24,230                                                                                               \n",
      "Non-trainable params: 0                                                                                                \n",
      "_________________________________________________________________                                                      \n",
      "None                                                                                                                   \n",
      "Epoch 1/8                                                                                                              \n",
      "228/228 - 21s - loss: 1.2050 - accuracy: 0.5209 - val_loss: 1.1860 - val_accuracy: 0.4865 - 21s/epoch - 91ms/step      \n",
      "\n",
      "Epoch 2/8                                                                                                              \n",
      "228/228 - 17s - loss: 0.7301 - accuracy: 0.7296 - val_loss: 0.9840 - val_accuracy: 0.6081 - 17s/epoch - 76ms/step      \n",
      "\n",
      "Epoch 3/8                                                                                                              \n",
      "228/228 - 17s - loss: 0.5575 - accuracy: 0.8075 - val_loss: 0.5614 - val_accuracy: 0.8514 - 17s/epoch - 74ms/step      \n",
      "\n",
      "Epoch 4/8                                                                                                              \n",
      "228/228 - 17s - loss: 0.4390 - accuracy: 0.8559 - val_loss: 1.1795 - val_accuracy: 0.5946 - 17s/epoch - 75ms/step      \n",
      "\n",
      "Epoch 5/8                                                                                                              \n",
      "228/228 - 18s - loss: 0.3627 - accuracy: 0.8855 - val_loss: 0.1304 - val_accuracy: 0.9865 - 18s/epoch - 77ms/step      \n",
      "\n",
      "Epoch 6/8                                                                                                              \n",
      "228/228 - 17s - loss: 0.3032 - accuracy: 0.9117 - val_loss: 0.0460 - val_accuracy: 1.0000 - 17s/epoch - 75ms/step      \n",
      "\n",
      "Epoch 7/8                                                                                                              \n",
      "228/228 - 18s - loss: 0.2573 - accuracy: 0.9229 - val_loss: 0.0688 - val_accuracy: 0.9865 - 18s/epoch - 77ms/step      \n",
      "\n",
      "Epoch 8/8                                                                                                              \n",
      "228/228 - 17s - loss: 0.2116 - accuracy: 0.9334 - val_loss: 0.0148 - val_accuracy: 1.0000 - 17s/epoch - 75ms/step      \n",
      "\n",
      "Best validation acc of epoch:                                                                                          \n",
      "1.0                                                                                                                    \n",
      "Model: \"sequential_3\"                                                                                                  \n",
      "_________________________________________________________________                                                      \n",
      " Layer (type)                Output Shape              Param #                                                         \n",
      "=================================================================                                                      \n",
      " lstm_6 (LSTM)               (None, 128, 64)           18944                                                           \n",
      " dropout_6 (Dropout)         (None, 128, 64)           0                                                               \n",
      " lstm_7 (LSTM)               (None, 16)                5184                                                            \n",
      " dropout_7 (Dropout)         (None, 16)                0                                                               \n",
      " dense_3 (Dense)             (None, 6)                 102                                                             \n",
      "=================================================================                                                      \n",
      "Total params: 24,230                                                                                                   \n",
      "Trainable params: 24,230                                                                                               \n",
      "Non-trainable params: 0                                                                                                \n"
     ]
    },
    {
     "name": "stdout",
     "output_type": "stream",
     "text": [
      "_________________________________________________________________                                                      \n",
      "None                                                                                                                   \n",
      "Epoch 1/8                                                                                                              \n",
      "228/228 - 20s - loss: 0.9867 - accuracy: 0.6198 - val_loss: 0.8525 - val_accuracy: 0.7568 - 20s/epoch - 86ms/step      \n",
      "\n",
      "Epoch 2/8                                                                                                              \n",
      "228/228 - 17s - loss: 0.5796 - accuracy: 0.7916 - val_loss: 0.6771 - val_accuracy: 0.7973 - 17s/epoch - 76ms/step      \n",
      "\n",
      "Epoch 3/8                                                                                                              \n",
      "228/228 - 17s - loss: 0.4116 - accuracy: 0.8539 - val_loss: 0.4567 - val_accuracy: 0.8784 - 17s/epoch - 76ms/step      \n",
      "\n",
      "Epoch 4/8                                                                                                              \n",
      "228/228 - 17s - loss: 0.3104 - accuracy: 0.8908 - val_loss: 0.0769 - val_accuracy: 1.0000 - 17s/epoch - 75ms/step      \n",
      "\n",
      "Epoch 5/8                                                                                                              \n",
      "228/228 - 17s - loss: 0.2202 - accuracy: 0.9261 - val_loss: 0.0329 - val_accuracy: 1.0000 - 17s/epoch - 76ms/step      \n",
      "\n",
      "Epoch 6/8                                                                                                              \n",
      "228/228 - 17s - loss: 0.1739 - accuracy: 0.9387 - val_loss: 0.0535 - val_accuracy: 0.9865 - 17s/epoch - 74ms/step      \n",
      "\n",
      "Epoch 7/8                                                                                                              \n",
      "228/228 - 17s - loss: 0.1643 - accuracy: 0.9413 - val_loss: 0.0172 - val_accuracy: 1.0000 - 17s/epoch - 76ms/step      \n",
      "\n",
      "Epoch 8/8                                                                                                              \n",
      "228/228 - 20s - loss: 0.1459 - accuracy: 0.9477 - val_loss: 0.0059 - val_accuracy: 1.0000 - 20s/epoch - 88ms/step      \n",
      "\n",
      "Best validation acc of epoch:                                                                                          \n",
      "1.0                                                                                                                    \n",
      "100%|███████████████████████████████████████████████████████████████| 4/4 [09:59<00:00, 149.89s/trial, best loss: -1.0]\n"
     ]
    }
   ],
   "source": [
    "best_run, best_model = optim.minimize(model=create_model, data=data, algo=tpe.suggest, max_evals=4, \n",
    "                                      trials=Trials(), notebook_name = \"HumanActivityRecognition\")"
   ]
  },
  {
   "cell_type": "code",
   "execution_count": 15,
   "id": "fd4e32c0",
   "metadata": {},
   "outputs": [
    {
     "name": "stdout",
     "output_type": "stream",
     "text": [
      "93/93 [==============================] - 4s 39ms/step - loss: 0.3551 - accuracy: 0.8948\n"
     ]
    }
   ],
   "source": [
    "x_train, y_train, x_test, y_test = data()\n",
    "\n",
    "score = best_model.evaluate(x_test, y_test)"
   ]
  },
  {
   "cell_type": "code",
   "execution_count": 17,
   "id": "56b2154b",
   "metadata": {},
   "outputs": [
    {
     "name": "stdout",
     "output_type": "stream",
     "text": [
      "Accuracy =  89.48\n"
     ]
    }
   ],
   "source": [
    "print(\"Accuracy = \", np.round((score[1]*100), 2))"
   ]
  },
  {
   "cell_type": "code",
   "execution_count": 18,
   "id": "e5cf1deb",
   "metadata": {},
   "outputs": [
    {
     "name": "stdout",
     "output_type": "stream",
     "text": [
      "Best Hyper - Parameter  {'Dropout': 0.8518867848867172, 'Dropout_1': 0.4757178900623902, 'LSTM': 0}\n"
     ]
    }
   ],
   "source": [
    "print(\"Best Hyper - Parameter \" , best_run)"
   ]
  },
  {
   "cell_type": "code",
   "execution_count": 19,
   "id": "3b8d5711",
   "metadata": {},
   "outputs": [],
   "source": [
    "true_labels = [np.argmax(i)+1 for i in y_test]\n",
    "predicted_probs = best_model.predict(x_test)\n",
    "predicted_labels = [np.argmax(i)+1 for i in predicted_probs]"
   ]
  },
  {
   "cell_type": "code",
   "execution_count": 20,
   "id": "222d6b15",
   "metadata": {},
   "outputs": [],
   "source": [
    "from sklearn.metrics import confusion_matrix"
   ]
  },
  {
   "cell_type": "code",
   "execution_count": 21,
   "id": "5c65263d",
   "metadata": {},
   "outputs": [
    {
     "data": {
      "text/plain": [
       "array([[453,  26,   2,   2,  13,   0],\n",
       "       [ 70, 401,   0,   0,   0,   0],\n",
       "       [  3,   5, 412,   0,   0,   0],\n",
       "       [  0,   1,   0, 360, 128,   2],\n",
       "       [  0,   0,   0,  56, 476,   0],\n",
       "       [  0,   2,   0,   0,   0, 535]], dtype=int64)"
      ]
     },
     "execution_count": 21,
     "metadata": {},
     "output_type": "execute_result"
    }
   ],
   "source": [
    "confusion_matrix(y_true= true_labels, y_pred= predicted_labels)"
   ]
  },
  {
   "cell_type": "code",
   "execution_count": null,
   "id": "599702ac",
   "metadata": {},
   "outputs": [],
   "source": []
  }
 ],
 "metadata": {
  "kernelspec": {
   "display_name": "Python 3",
   "language": "python",
   "name": "python3"
  },
  "language_info": {
   "codemirror_mode": {
    "name": "ipython",
    "version": 3
   },
   "file_extension": ".py",
   "mimetype": "text/x-python",
   "name": "python",
   "nbconvert_exporter": "python",
   "pygments_lexer": "ipython3",
   "version": "3.8.8"
  }
 },
 "nbformat": 4,
 "nbformat_minor": 5
}
